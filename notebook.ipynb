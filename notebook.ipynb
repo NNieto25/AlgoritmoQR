{
 "metadata": {
  "language_info": {
   "codemirror_mode": {
    "name": "ipython",
    "version": 3
   },
   "file_extension": ".py",
   "mimetype": "text/x-python",
   "name": "python",
   "nbconvert_exporter": "python",
   "pygments_lexer": "ipython3",
   "version": "3.9.0"
  },
  "orig_nbformat": 4,
  "kernelspec": {
   "name": "python3",
   "display_name": "Python 3.9.0 64-bit"
  },
  "interpreter": {
   "hash": "974151ec8f829cb85577dbf8bdad41af9b6734db21221b8b361842833ba8e7da"
  }
 },
 "nbformat": 4,
 "nbformat_minor": 2,
 "cells": [
  {
   "source": [
    "# Algoritmo QR\n",
    "Es una técnica de reducción de matriz utilizada para determinar los valores propios o eigenvalores de una matriz simétrica.\n",
    "Para aplicar el algoritmo es necesario tener una matriz simétrica diagonal. Es decir, una matriz con elementos con valor distinto de 0 ubicados unicamente en la diagonal principal o en las subdiagonales adyacentes.\n",
    "\n",
    "Si la matriz de la que se dispone no se trata de una matriz simétrica diagonal, debe aplicarse el método de Householder para encontrar una matriz con las características deseadas.\n",
    "\n",
    "Sea 'a' un arreglo que contiene los valores de la diagonal central.\n",
    "Sea 'b' un arreglo que contiene los valores de las subdiagonales.\n",
    "\n",
    "\\begin{equation}\n",
    "a =\n",
    "\\begin{bmatrix}\n",
    "a_1 & a_2 & a_3 & ... & a_n\n",
    "\\end{bmatrix}\n",
    "\\end{equation}\n",
    "\n",
    "\\begin{equation}\n",
    "b =\n",
    "\\begin{bmatrix}\n",
    "b_2 & b_3 & ... & b_n\n",
    "\\end{bmatrix}\n",
    "\\end{equation}"
   ],
   "cell_type": "markdown",
   "metadata": {}
  },
  {
   "source": [
    "Se puede denotar una matriz simétrica tridiagonal de la siguiente manera:\n",
    "\n",
    "\\begin{equation}\n",
    "\\begin{bmatrix}\n",
    "a_1 & b_2 & 0 & 0\\\\\n",
    "b_2 & a_2 & b_3 & 0\\\\\n",
    "0 & b_3 & a_3 & b_n\\\\\n",
    "0 & 0 & b_n & a_n\n",
    "\\end{bmatrix}\n",
    "\\end{equation}"
   ],
   "cell_type": "markdown",
   "metadata": {}
  },
  {
   "source": [
    "Si un elemento $b_n$ tiene un valor de 0, entonces la matriz 1x1 $[a_n]$ inmediatamente produce un eigenvalor $a_n$.\n",
    "\n",
    "Cuando un elemento $b_j$ = 0 para algunas j, donde: \\begin{equation} 2 < j < n \\end{equation}\n",
    "\n",
    "El algoritmo reduce el problema particionando la matriz A en dos matrices:\n",
    "\n",
    "\\begin{equation}\n",
    "\\begin{bmatrix}\n",
    "a_1 & b_2 & 0 & 0\\\\\n",
    "b_2 & a_2 & b_3 & 0\\\\\n",
    "0 & b_3 & a_3 & b_{j-1}\\\\\n",
    "0 & 0 & b_{j-1} & a_{j-1}\n",
    "\\end{bmatrix}\n",
    "\\end{equation}\n",
    "\\begin{equation}\n",
    "\\begin{bmatrix}\n",
    "a_j & b_{j+1} & 0 & 0\\\\\n",
    "b_{j+1} & a_{j+1} & b_{j+2} & 0\\\\\n",
    "0 & b_{j+2} & a_{j+2} & b_n\\\\\n",
    "0 & 0 & b_n & a_n\n",
    "\\end{bmatrix}\n",
    "\\end{equation}\n",
    "\n",
    "\n"
   ],
   "cell_type": "markdown",
   "metadata": {}
  },
  {
   "source": [
    "Luego se forma una sucesión de matrices: \n",
    "\n",
    "\\begin{equation}\n",
    "A= A^1, A^2, A^3, ...\n",
    "\\end{equation}\n",
    "\n",
    "Donde un elemento $A^i$ se factoriza como un producto $\\begin{equation} A^i = Q^i R^i \\end{equation}$, donde $Q^i$ es una matriz ortogonal y $R^i$ es una matriz triangular superior.\n",
    "Asi mismo, un elemento $A^{i+1}$ se define como el producto de $R^i$ y $Q^i$ en dirección inversa $\\begin{equation} A^i = R^i Q^i\\end{equation}$. Debido a que el elemento $Q^i$ es ortogonal, es posible expresar $R^i$ como $\\begin{equation} R^i = Q^{i^t} A^i \\end{equation}$, por lo tanto:\n",
    "\\begin{equation} \n",
    "A^{i+1} = R^i Q^i = (Q^{i^t} A^i) Q^i = Q^{i^t} A^i Q^i \n",
    "\\end{equation}\n",
    "\n",
    "De esta manera, se garantiza que $A^{i+1}$ es simétrica con los mismos valores propios que $A^i$ y que se trata de una matriz tridiagonal.\n",
    "\n",
    "## factorización QR\n",
    "\n",
    "Para implementar la factorización de una matriz A expresándola como el producto de Q y R, es posible utilizar distintos subalgoritmos que permitan realizar esta operación como el proceso de ortogonalización de Gram-Schmidt, apoyandonos en la reflexión de Householder o utilizando las rotaciones de Givens, este último será el algoritmo a implementar en código.   \n",
    "\n",
    "Utilizando matrices denotadas por $P_n$, las cuales representan un tipo de transformación lineal llamado rotación, es posible expresar la factorización de $A^1 = Q^1 R^1$ usando un producto de n - 1 matrices de rotación para construir la matriz:\n",
    "\\begin{equation}\n",
    "R^1 = P_n P_{n-1} ... P_2 A^1.\n",
    "\\end{equation}\n",
    "La matriz $P_k$ se selecciona de manera que $A_k^1 = P_k A_{k-1}^1$ en la posición $[k, k - 1]$ sea igual a cero. Todas las matrices de rotación son ortogonales, por lo que $P P^t = I$.\n",
    "\n",
    "Luego, para la factorización de $Q$ se utiliza la transpuesta de cada matriz de rotación $P$, de tal forma que:\n",
    "\\begin{equation} \n",
    "Q = P_2{^t} P_3{^t} ... P_n{^t}.\n",
    "\\end{equation}\n",
    "\n",
    "Utilizando la ortogonalidad de las matrices de rotación:\n",
    "\n",
    "\\begin{equation} \n",
    "A^1 = (P_2{^t} P_3{^t} ... P_n{^t}) \\cdot (P_n P_{n-1} ... P_2 A^1$) =  Q^1 \\cdot R^1\n",
    "\\end{equation}\n",
    "\n",
    "La matriz $Q^1$ se trata de una matriz Hessenberg superior. Así mismo $A^2 = R^1 \\cdot Q^1$ también es una matriz Hessenberg superior porque al multiplicar $Q^1$ a la izquierda de la matriz $R^1$, la cual se trata de una matriz triangular superior, no se afectan las entradas en el triangulo inferior de la misma. Por lo tanto, A^2 se trata igualmente de una matriz tridiagonal.\n",
    "\n",
    "Las entradas fuera de la diagonal de $A^{k+1}$ serán de una menor magnitud que las entradas correspondientes en la matriz $A^k$, entonces es posible deducir que $A^{k+1}$ está más cerca de ser una matriz diagonal, que contenga los eigenvalores buscados, respecto a $A^k$. Este proceso se repite hasta obtener una convergencia satisfactoria.\n",
    "\n"
   ],
   "cell_type": "markdown",
   "metadata": {}
  },
  {
   "source": [
    "## Implementación en Python"
   ],
   "cell_type": "markdown",
   "metadata": {}
  },
  {
   "cell_type": "code",
   "execution_count": 13,
   "metadata": {},
   "outputs": [],
   "source": [
    "from math import sqrt"
   ]
  },
  {
   "cell_type": "code",
   "execution_count": 14,
   "metadata": {},
   "outputs": [],
   "source": [
    "'''\n",
    "n: Tamaño de la matriz\n",
    "a: Arreglo que contiene los elementos de la diagonal principal\n",
    "b: arreglo que contiene los elementos de las subdiagonales\n",
    "TOL: Máxima diferencia permitida respecto a cero\n",
    "m: Cantidad máxima de iteraciones\n",
    "'''\n",
    "def QR(n, a, b, TOL, m):\n",
    "    c = []\n",
    "    d = []\n",
    "    q = []\n",
    "    r = []\n",
    "    x = []\n",
    "    y = []\n",
    "    z = []\n",
    "    sigma = []\n",
    "\n",
    "    #Se inicializan las listas con n elementos con valor de 0\n",
    "    for j in range (0, n + 1):\n",
    "        c.append(0)\n",
    "        d.append(0)\n",
    "        q.append(0)\n",
    "        r.append(0)\n",
    "        x.append(0)\n",
    "        y.append(0)\n",
    "        z.append(0)\n",
    "        sigma.append(0)\n",
    "    \n",
    "    # Primera iteración\n",
    "    k = 1     \n",
    "    shift = 0\n",
    "    eigenvalue = 0\n",
    "    eigenvalues = []\n",
    "\n",
    "    #Se agregan valores de 0 a las listas para facilitar la lectura del algoritmo\n",
    "    a.insert(0,0)\n",
    "    b.insert(0,0)\n",
    "    b.insert(0,0)\n",
    "\n",
    "    while k <= m:\n",
    "        # Se verifica si los extremos de la diagonal contienen eigenvalores\n",
    "        if abs(b[n]) <= TOL:\n",
    "            eigenvalue = a[n] + shift\n",
    "            eigenvalues.append(eigenvalue)\n",
    "            n = n - 1\n",
    "        \n",
    "        if abs(b[2]) <= TOL:\n",
    "            eigenvalue = a[1] + shift\n",
    "            eigenvalues.append(eigenvalue)\n",
    "            n = n - 1\n",
    "            a[1] = a[2]\n",
    "            # Se desplazan los valores en las diagonales  \n",
    "            for j in range(2, n + 1):\n",
    "                a[j] = a[j + 1]\n",
    "                b[j] = b[j + 1]\n",
    "        \n",
    "        if n == 0 :\n",
    "            return eigenvalues\n",
    "        \n",
    "        if n == 1 :\n",
    "            eigenvalue = a[1] + shift\n",
    "            eigenvalues.append(eigenvalue)\n",
    "            return eigenvalues\n",
    "        \n",
    "        b[0] = - (a[n - 1] + a[n])\n",
    "        c[0] = a[n] * a[n - 1] - (b[n]) ** 2\n",
    "        d[0] = sqrt(((b[0] ** 2) - 4 * c[0]))\n",
    "\n",
    "        if(b[0] > 0):\n",
    "            mu1 = -2 * c[0] / (b[0] + d[0])\n",
    "            mu2 = - (b[0] + d[0]) / 2\n",
    "        else:\n",
    "            mu1 = (d[0] - b[0]) / 2\n",
    "            mu2 = (2 * c[0]) / (d[0] - b[0])\n",
    "\n",
    "        if(n == 2):\n",
    "            eigenvalue = mu1 + shift\n",
    "            eigenvalue = mu2 + shift\n",
    "\n",
    "        if abs(mu1 - a[n]) < abs(mu2 - a[n]):\n",
    "            sigma[0] = mu1-a[n]\n",
    "        else:\n",
    "            sigma[0] = mu2-a[n]\n",
    "\n",
    "        shift = shift + sigma[0]\n",
    "\n",
    "        for j in range(1, n + 1):\n",
    "            d[j] = a[j] - sigma[0]\n",
    "\n",
    "        #Calculando R^k\n",
    "        x[1] = d[1]\n",
    "        y[1] = b[2]\n",
    "        c[1] = c[0]\n",
    "        sigma[1] = sigma[0]\n",
    "        for j in range (2, n + 1):\n",
    "            z[j - 1] = sqrt((x[j - 1] ** 2) + (b[j] ** 2))\n",
    "            c[j] = x[j - 1] / z[j - 1]\n",
    "            sigma[j] =  b[j] / z[j - 1]\n",
    "\n",
    "            q[j - 1] = c[j] * y[j - 1]  + sigma[j] * d[j]\n",
    "            x[j] = - sigma[j] * y[j - 1] + c[j] * d[j]\n",
    "            \n",
    "            if(j != n):\n",
    "                r[j - 1] = sigma[j] * b[j + 1]\n",
    "                y[j] = c[j] * b[j + 1]\n",
    "        \n",
    "        #Calculando A^(k + 1)\n",
    "        z[n] = x[n]\n",
    "        a[1] = sigma[2] * q[1] + c[2] * z[1]\n",
    "        b[2] = sigma[2] * z[2]\n",
    "\n",
    "        for j in range(2, n):\n",
    "            a[j] = (sigma[j + 1] * q[j]) + (c[j] * c[j + 1] * z[j])\n",
    "            b[j + 1] = sigma[j + 1] * z[j + 1]\n",
    "\n",
    "        a[n] = c[n] * z[n]\n",
    "\n",
    "        k = k + 1\n",
    "\n",
    "    print('Se ha superado el numero máximo de iteraciones')\n",
    "    return eigenvalues\n"
   ]
  },
  {
   "source": [
    "## Experimentos numéricos\n",
    "\n",
    "Encontrar todos los eigenvalores de las siguientes matrices utilizando el algoritmo QR con precisión de $10^{-5}$:\n",
    "\n",
    "\\begin{equation}\n",
    "A =\n",
    "\\begin{bmatrix}\n",
    "3 & 1 & 0\\\\\n",
    "1 & 4 & 2\\\\\n",
    "0 & 2 & 1\n",
    "\\end{bmatrix}\n",
    "\\end{equation}"
   ],
   "cell_type": "markdown",
   "metadata": {}
  },
  {
   "source": [
    "QR(3, [3, 4, 1], [1, 2], 10**-5, 1000)\n"
   ],
   "cell_type": "code",
   "metadata": {},
   "execution_count": 25,
   "outputs": [
    {
     "output_type": "execute_result",
     "data": {
      "text/plain": [
       "[-0.06870782332199432, 2.7222456337737406, 5.346462189548253]"
      ]
     },
     "metadata": {},
     "execution_count": 25
    }
   ]
  },
  {
   "source": [
    "\n",
    "\\begin{equation}\n",
    "B =\n",
    "\\begin{bmatrix}\n",
    "0.5 & 0.25 & 0 & 0\\\\\n",
    "0.25 & 0.8 & 0.4 & 0\\\\\n",
    "0 & 0.4 & 0.6 & 0.1\\\\\n",
    "0 & 0 & 0.1 & 1\n",
    "\\end{bmatrix}\n",
    "\\end{equation}"
   ],
   "cell_type": "markdown",
   "metadata": {}
  },
  {
   "cell_type": "code",
   "execution_count": 26,
   "metadata": {},
   "outputs": [
    {
     "output_type": "execute_result",
     "data": {
      "text/plain": [
       "[0.19224214160156028,\n",
       " 0.5238224091238559,\n",
       " 0.9948440427556363,\n",
       " 1.1890914065189455]"
      ]
     },
     "metadata": {},
     "execution_count": 26
    }
   ],
   "source": [
    "QR(4, [0.5, 0.8, 0.6, 1], [0.25, 0.4, 0.1], 10**-5, 1000)"
   ]
  },
  {
   "cell_type": "code",
   "execution_count": null,
   "metadata": {},
   "outputs": [],
   "source": []
  }
 ]
}