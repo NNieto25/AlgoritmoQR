{
 "metadata": {
  "language_info": {
   "codemirror_mode": {
    "name": "ipython",
    "version": 3
   },
   "file_extension": ".py",
   "mimetype": "text/x-python",
   "name": "python",
   "nbconvert_exporter": "python",
   "pygments_lexer": "ipython3",
   "version": "3.9.5"
  },
  "orig_nbformat": 4,
  "kernelspec": {
   "name": "python3",
   "display_name": "Python 3.9.5 64-bit"
  },
  "interpreter": {
   "hash": "63fd5069d213b44bf678585dea6b12cceca9941eaf7f819626cde1f2670de90d"
  }
 },
 "nbformat": 4,
 "nbformat_minor": 2,
 "cells": [
  {
   "source": [
    "# Algoritmo QR\n",
    "Es una técnica de reducción de matriz utilizada para determinar los valores propios o eigenvalores de una matriz simétrica.\n",
    "Para aplicar el algoritmo es necesario tener una matriz simétrica diagonal. Es decir, una matriz con elementos con valor distinto de 0 ubicados unicamente en la diagonal principal o en las subdiagonales adyacentes.\n",
    "\n",
    "Si la matriz de la que se dispone no se trata de una matriz simétrica diagonal, debe aplicarse el método de Householder para encontrar una matriz con las características deseadas.\n",
    "\n",
    "Sea 'a' un arreglo que contiene los valores de la diagonal central.\n",
    "Sea 'b' un arreglo que contiene los valores de las subdiagonales.\n",
    "\n",
    "\\begin{equation}\n",
    "a =\n",
    "\\begin{bmatrix}\n",
    "a_1 & a_2 & a_3 & ... & a_n\n",
    "\\end{bmatrix}\n",
    "\\end{equation}\n",
    "\n",
    "\\begin{equation}\n",
    "b =\n",
    "\\begin{bmatrix}\n",
    "b_2 & b_3 & ... & b_n\n",
    "\\end{bmatrix}\n",
    "\\end{equation}"
   ],
   "cell_type": "markdown",
   "metadata": {}
  },
  {
   "source": [
    "Se puede denotar una matriz simétrica tridiagonal de la siguiente manera:\n",
    "\n",
    "\\begin{equation}\n",
    "\\begin{bmatrix}\n",
    "a_1 & b_2 & 0 & 0\\\\\n",
    "b_2 & a_2 & b_3 & 0\\\\\n",
    "0 & b_3 & a_3 & b_n\\\\\n",
    "0 & 0 & b_n & a_n\n",
    "\\end{bmatrix}\n",
    "\\end{equation}"
   ],
   "cell_type": "markdown",
   "metadata": {}
  },
  {
   "source": [
    "Si un elemento $b_n$ tiene un valor de 0, entonces la matriz 1x1 $[a_n]$ inmediatamente produce un eigenvalor $a_n$.\n",
    "\n",
    "Cuando un elemento $b_j$ = 0 para algunas j, donde: \\begin{equation} 2 < j < n \\end{equation}\n",
    "\n",
    "El algoritmo reduce el problema particionando la matriz A en dos matrices:\n",
    "\n",
    "\\begin{equation}\n",
    "\\begin{bmatrix}\n",
    "a_1 & b_2 & 0 & 0\\\\\n",
    "b_2 & a_2 & b_3 & 0\\\\\n",
    "0 & b_3 & a_3 & b_{j-1}\\\\\n",
    "0 & 0 & b_{j-1} & a_{j-1}\n",
    "\\end{bmatrix}\n",
    "\\end{equation}\n",
    "\\begin{equation}\n",
    "\\begin{bmatrix}\n",
    "a_j & b_{j+1} & 0 & 0\\\\\n",
    "b_{j+1} & a_{j+1} & b_{j+2} & 0\\\\\n",
    "0 & b_{j+2} & a_{j+2} & b_n\\\\\n",
    "0 & 0 & b_n & a_n\n",
    "\\end{bmatrix}\n",
    "\\end{equation}\n",
    "\n",
    "\n"
   ],
   "cell_type": "markdown",
   "metadata": {}
  },
  {
   "source": [
    "Luego se forma una sucesión de matrices: \n",
    "\n",
    "\\begin{equation}\n",
    "A= A^1, A^2, A^3, ...\n",
    "\\end{equation}\n",
    "\n",
    "Donde un elemento $A^i$ se factoriza como un producto $\\begin{equation} A^i = Q^i R^i \\end{equation}$, donde $Q^i$ es una matriz ortogonal y $R^i$ es una matriz triangular superior.\n",
    "Asi mismo, un elemento $A^{i+1}$ se define como el producto de $R^i$ y $Q^i$ en dirección inversa $\\begin{equation} A^i = R^i Q^i\\end{equation}$. Debido a que el elemento $Q^i$ es ortogonal, es posible expresar $R^i$ como $\\begin{equation} R^i = Q^{i^t} A^i \\end{equation}$, por lo tanto:\n",
    "\\begin{equation} \n",
    "A^{i+1} = R^i Q^i = (Q^{i^t} A^i) Q^i = Q^{i^t} A^i Q^i \n",
    "\\end{equation}\n",
    "\n",
    "De esta manera, se garantiza que $A^{i+1}$ es simétrica con los mismos valores propios que $A^i$ y que se trata de una matriz tridiagonal.\n",
    "\n",
    "La factorización de $A^1 = Q^1 R^1$ usa un producto de n - 1 matrices de rotación para construir la matriz $R^1 = P_n P_{n-1} ... P_2 A^1$.\n",
    "\n",
    "La matriz $P_k$ se selecciona de manera que $A_k^1 = P_k A_{k-1}^1$ en la posición $[k, k - 1]$ sea igual a cero.\n"
   ],
   "cell_type": "markdown",
   "metadata": {}
  },
  {
   "cell_type": "code",
   "execution_count": null,
   "metadata": {},
   "outputs": [],
   "source": []
  }
 ]
}