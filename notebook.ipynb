{
  "cells": [
    {
      "cell_type": "markdown",
      "metadata": {
        "id": "UPiQF44cHDLO"
      },
      "source": [
        "# Algoritmo QR\r\n",
        "Es una técnica de reducción de matriz utilizada para determinar los valores propios o eigenvalores de una matriz simétrica.\r\n",
        "\r\n",
        "# Definiciones preliminares\r\n",
        "Para comprender de manera más sencilla el algoritmo QR, necesitamos tener en mente algunos conceptos importantes que están relacionados con la construcción del algoritmo. \r\n",
        "\r\n",
        "## Eigenvector\r\n",
        "Los vectores propios son un conjunto especial de vectores asociados que tienen una característica esencial:  <em>  Pertenecer a su sub-espacio generado.</em>\r\n",
        "\r\n",
        "El vector propio puede ser estirado o contraído, pero <em> siempre se mantiene en la línea que genera sin ser girado fuera de ella.</em>\r\n",
        "\r\n",
        "Partiendo de la definición anterior podemos notar que:\r\n",
        "\\[ A \\cdot \\vec{v} = \\lambda \\cdot \\vec{v} \\therefore (A - \\lambda \\cdot I) \\vec{v} = 0 \\]\r\n",
        "\r\n",
        "Entonces, $\\vec{v}$ es un vector propio solo si $v \\neq 0$ y $\\vec{v} \\in V$\r\n",
        "\r\n",
        "Tal que: \\[ T(v) = \\lambda \\cdot \\vec{v} \\]\r\n",
        "\r\n",
        "## Eigenvalor\r\n",
        "Un valor propio es el factor en el que se estira o contrae un eigenvector durante una transformación.\r\n",
        "\r\n",
        "Un eigenvalor de una transformación lineal de la forma $T: V \\rightarrow V$ es un escalar $\\lambda$ siempre que exista una matriz de transformación $A$, una matriz de identidad $I$, y un eigenvector $\\vec{v}$\r\n",
        "\r\n",
        "Tal que: $$(A - \\lambda \\cdot I)\\vec{v}$$\r\n",
        "\r\n",
        "En otras palabras, $\\lambda$ es un eigenvalor siempre que exista un vector $\\vec{v}$, donde: $\\vec{v} \\neq 0$ y $\\vec{v} \\in V$\r\n",
        "\r\n",
        "Tal que: $$T(v) = \\lambda \\cdot \\vec{v}$$\r\n",
        "\r\n",
        "## Transformación Lineal\r\n",
        "Se trata de funciones entre k-espacios vectoriales que son compatibles con la estructura.\r\n",
        "\r\n",
        "Esto significa que, suponiendo que contemos con dos espacios vectoriales $V \\wedge W$ y una función $T$ que va de $V$ a $W$.\r\n",
        "\r\n",
        "Tal que: $$T: V \\rightarrow W$$\r\n",
        "\r\n",
        "La función $T$ transforma vectores de $V$ en $W$, pero para denominarse una transformación lineal, tiene que cumplir con dos propiedades:\r\n",
        "\r\n",
        "$$\\bullet T(u+v)=T(u) + T(v), \\forall u, v \\in V$$  \r\n",
        "\r\n",
        "$$\\bullet T(k \\cdot v)=k \\cdot T(v), \\forall v \\in \\Re , \\forall k \\in \\Re$$\r\n",
        "\r\n",
        "## Matriz Transpuesta\r\n",
        "Es el resultado de reordenar una matriz original mediante el cambio de filas por columnas y las columnas por filas.\r\n",
        "\r\n",
        "$$\r\n",
        "M = \\begin{bmatrix}\r\n",
        "a & b & c\\\\\r\n",
        "d & e & f\\\\\r\n",
        "g & h & i\\\\\r\n",
        "\\end{bmatrix} \r\n",
        "$$  \r\n",
        "\r\n",
        "$$\r\n",
        "M^T = \\begin{bmatrix}\r\n",
        "a & d & g\\\\\r\n",
        "b & e & h\\\\\r\n",
        "c & f & i\\\\\r\n",
        "\\end{bmatrix} \r\n",
        "$$\r\n",
        "\r\n",
        "## Matriz Simétrica\r\n",
        "Es una matriz de orden $n$, con el mismo número de filas y columnas.\r\n",
        "\r\n",
        "Tal que: $$M = \\begin{bmatrix}\r\n",
        "1 & 1 & 5\\\\\r\n",
        "1 & 2 & 3\\\\\r\n",
        "5 & 3 & 4\\\\\r\n",
        "\\end{bmatrix} $$\r\n",
        "\r\n",
        "Tiene que cumplir las siguientes propiedades para que se considere una matriz simétrica:\r\n",
        "\r\n",
        "$\\bullet$ La matriz transpuesta tiene que ser igual que la matriz original.\r\n",
        "\r\n",
        "$\\bullet$ Tiene que ser una matriz cuadrada, con el mismo número de filas y columnas.\r\n",
        "\r\n",
        "## Matriz Ortogonal\r\n",
        "Es una matriz cuadrada con números reales que al ser multiplicada por su transpuesta da como resultado la matriz identidad.\r\n",
        "\r\n",
        "Tal que: $$M \\cdot M^T = I$$\r\n",
        "\r\n",
        "$$\r\n",
        "M = \r\n",
        "\\begin{bmatrix}\r\n",
        "0 & 1\\\\\r\n",
        "-1 & 0\\\\\r\n",
        "\\end{bmatrix} \r\n",
        "\\cdot M^T = \r\n",
        "\\begin{bmatrix}\r\n",
        "0 & -1\\\\\r\n",
        "1 & 0\\\\\r\n",
        "\\end{bmatrix} \r\n",
        "\\therefore \r\n",
        "\\begin{bmatrix}\r\n",
        "1 & 0\\\\\r\n",
        "0 & 1\\\\\r\n",
        "\\end{bmatrix} \r\n",
        "$$\r\n",
        "\r\n",
        "Debe de cumplir las siguientes propiedades para que se considere una matriz ortogonal:\r\n",
        "\r\n",
        "$\\bullet$ Los vectores fila tienen que ser vectores ortogonales unitarios.\r\n",
        "\r\n",
        "$\\bullet$ El número de filas y columnas tiene que ser el mismo.\r\n",
        "\r\n",
        "## Matriz Triangular Superior\r\n",
        "Se refiere a una matriz cuadrada que tiene triángulos de ceros por debajo de su diagonal principal.\r\n",
        "\r\n",
        "Los valores escalares de las posiciones que no representen la parte baja de la diagonal principal, pueden tomar cualquier valor.\r\n",
        "\r\n",
        "Tal que: \r\n",
        "$$\r\n",
        "M = \\begin{bmatrix}\r\n",
        "4 & -9 & 2\\\\\r\n",
        "0 & 5 & 7\\\\\r\n",
        "0 & 0 & 15\\\\\r\n",
        "\\end{bmatrix} \r\n",
        "$$\r\n",
        " \r\n",
        "## Matrices Similares\r\n",
        "Podemos decir que dos matrices son similares si se cumple lo siguiente:\r\n",
        "\r\n",
        "Supongamos que tenemos dos matrices $M \\wedge N$ de orden $n$, si existe una tercera matriz $P$, donde $P$ es invertible y que \r\n",
        "\r\n",
        "$$P^{-1} \\cdot M \\cdot P = N$$\r\n",
        "\r\n",
        "**Teorema.** Si dos matrices son similares, contienen los mismos eigenvalores.\r\n"
      ]
    },
    {
      "cell_type": "markdown",
      "metadata": {},
      "source": [
        "# Definición y requisitos\r\n",
        "\r\n",
        "Para aplicar el algoritmo QR es necesario tener una matriz simétrica diagonal. Es decir, una matriz con elementos con valor distinto de 0 ubicados unicamente en la diagonal principal o en las subdiagonales adyacentes.\r\n",
        "\r\n",
        "Si la matriz de la que se dispone no se trata de una matriz simétrica diagonal, debe aplicarse el método de Householder para encontrar una matriz con las características deseadas.\r\n",
        "\r\n",
        "Sea $a$ un arreglo que contiene los valores de la diagonal central.\r\n",
        "\r\n",
        "\\begin{equation}\r\n",
        "a =\r\n",
        "\\begin{bmatrix}\r\n",
        "a_1 & a_2 & a_3 & ... & a_n\r\n",
        "\\end{bmatrix}\r\n",
        "\\end{equation}\r\n",
        "\r\n",
        "Sea $b$ un arreglo que contiene los valores de las subdiagonales.\r\n",
        "\r\n",
        "\\begin{equation}\r\n",
        "b =\r\n",
        "\\begin{bmatrix}\r\n",
        "b_2 & b_3 & ... & b_n\r\n",
        "\\end{bmatrix}\r\n",
        "\\end{equation}\r\n",
        "\r\n",
        "Se puede denotar una matriz simétrica tridiagonal de la siguiente manera:\r\n",
        "\r\n",
        "\\begin{equation}\r\n",
        "\\begin{bmatrix}\r\n",
        "a_1 & b_2 & 0 & 0\\\\\r\n",
        "b_2 & a_2 & b_3 & 0\\\\\r\n",
        "0 & b_3 & a_3 & b_n\\\\\r\n",
        "0 & 0 & b_n & a_n\r\n",
        "\\end{bmatrix}\r\n",
        "\\end{equation}\r\n",
        "\r\n",
        "Si un elemento $b_n$ tiene un valor de 0, entonces la matriz 1x1 $[a_n]$ inmediatamente produce un eigenvalor $a_n$.\r\n",
        "\r\n",
        "Cuando un elemento $b_j$ = 0 para algunas j, donde: $$\\begin{equation} 2 < j < n \\end{equation}$$\r\n",
        "\r\n",
        "El algoritmo reduce el problema particionando la matriz A en dos matrices:\r\n",
        "\r\n",
        "\\begin{equation}\r\n",
        "\\begin{bmatrix}\r\n",
        "a_1 & b_2 & 0 & 0\\\\\r\n",
        "b_2 & a_2 & b_3 & 0\\\\\r\n",
        "0 & b_3 & a_3 & b_{j-1}\\\\\r\n",
        "0 & 0 & b_{j-1} & a_{j-1}\r\n",
        "\\end{bmatrix}\r\n",
        "\\end{equation}\r\n",
        "\\begin{equation}\r\n",
        "\\begin{bmatrix}\r\n",
        "a_j & b_{j+1} & 0 & 0\\\\\r\n",
        "b_{j+1} & a_{j+1} & b_{j+2} & 0\\\\\r\n",
        "0 & b_{j+2} & a_{j+2} & b_n\\\\\r\n",
        "0 & 0 & b_n & a_n\r\n",
        "\\end{bmatrix}\r\n",
        "\\end{equation}\r\n",
        "\r\n",
        "Luego se forma una sucesión de matrices: \r\n",
        "\r\n",
        "\\[ A= A^1, A^2, A^3, ... \\]\r\n",
        "\r\n",
        "Donde un elemento $A^i$ se factoriza como un producto $$A^i = Q^i R^i$$, donde $Q^i$ es una matriz ortogonal y $R^i$ es una matriz triangular superior.\r\n",
        "\r\n",
        "Asi mismo, un elemento $A^{i+1}$ se define como el producto de $R^i$ y $Q^i$ en dirección inversa \\begin{equation} A^i = R^i Q^i\\end{equation}. Debido a que el elemento $Q^i$ es ortogonal, es posible expresar $R^i$ como \\( R^i = Q^{i^t} A^i \\), por lo tanto:\r\n",
        "\r\n",
        "\\[ A^{i+1} = R^i Q^i = (Q^{i^t} A^i) Q^i = Q^{i^t} A^i Q^i \\]\r\n",
        "\r\n",
        "De esta manera, se garantiza que $A^{i+1}$ es simétrica con los mismos valores propios que $A^i$ y que se trata de una matriz tridiagonal."
      ]
    },
    {
      "cell_type": "markdown",
      "metadata": {
        "id": "ol6-SIKkHDLS"
      },
      "source": [
        "## Factorización QR\r\n",
        "\r\n",
        "Para implementar la factorización de una matriz A expresándola como el producto de Q y R, es posible utilizar distintos subalgoritmos que permitan realizar esta operación como el proceso de ortogonalización de Gram-Schmidt, la reflexión de Householder o utilizando las rotaciones de Givens, este último será el algoritmo a implementar en código.   \r\n",
        "\r\n",
        "Utilizando matrices denotadas por $P_n$, las cuales representan un tipo de transformación lineal llamado rotación, es posible expresar la factorización de $A^1 = Q^1 R^1$ usando un producto de n - 1 matrices de rotación para construir la matriz:\r\n",
        "\\begin{equation}\r\n",
        "R^1 = P_n P_{n-1} ... P_2 A^1.\r\n",
        "\\end{equation}\r\n",
        "La matriz $P_k$ se selecciona de manera que $A_k^1 = P_k A_{k-1}^1$ en la posición $[k, k - 1]$ sea igual a cero. Todas las matrices de rotación son ortogonales, por lo que $P P^t = I$.\r\n",
        "\r\n",
        "Luego, para la factorización de $Q$ se utiliza la transpuesta de cada matriz de rotación $P$, de tal forma que:\r\n",
        "\\begin{equation} \r\n",
        "Q = P_2{^t} P_3{^t} ... P_n{^t}.\r\n",
        "\\end{equation}\r\n",
        "\r\n",
        "Utilizando la ortogonalidad de las matrices de rotación:\r\n",
        "\r\n",
        "\\begin{equation} \r\n",
        "A^1 = (P_2{^t} P_3{^t} ... P_n{^t}) \\cdot (P_n P_{n-1} ... P_2 A^1$) =  Q^1 \\cdot R^1\r\n",
        "\\end{equation}\r\n",
        "\r\n",
        "La matriz $Q^1$ se trata de una matriz Hessenberg superior. Así mismo $A^2 = R^1 \\cdot Q^1$ también es una matriz Hessenberg superior porque al multiplicar $Q^1$ a la izquierda de la matriz $R^1$, la cual se trata de una matriz triangular superior, no se afectan las entradas en el triangulo inferior de la misma. Por lo tanto, A^2 se trata igualmente de una matriz tridiagonal.\r\n",
        "\r\n",
        "Las entradas fuera de la diagonal de $A^{k+1}$ serán de una menor magnitud que las entradas correspondientes en la matriz $A^k$, entonces es posible deducir que $A^{k+1}$ está más cerca de ser una matriz diagonal, que contenga los eigenvalores buscados, respecto a $A^k$. Este proceso se repite hasta obtener una convergencia satisfactoria."
      ]
    },
    {
      "cell_type": "markdown",
      "metadata": {
        "id": "Ti7K1ywGHDLU"
      },
      "source": [
        "## Implementación en Python"
      ]
    },
    {
      "cell_type": "code",
      "execution_count": 1,
      "metadata": {
        "id": "7F8tlMNOHDLV"
      },
      "outputs": [],
      "source": [
        "from math import sqrt\n",
        "import matplotlib.pyplot as plt\n",
        "from matplotlib import cm\n",
        "from matplotlib.colors import ListedColormap"
      ]
    },
    {
      "cell_type": "markdown",
      "metadata": {},
      "source": [
        "### Gráficos\r\n",
        "El siguiente fragmento de código corresponde a la librería de implementación de gráficos Matplotlib:"
      ]
    },
    {
      "cell_type": "code",
      "execution_count": 3,
      "metadata": {
        "id": "LAyfxsteHDLV"
      },
      "outputs": [],
      "source": [
        "%matplotlib inline\n",
        "mapa = ListedColormap(['#C2FFF5','#00adb5', '#0c056d','#f25d9c', '#8FFF5C','#ff5722'])\n",
        "\n",
        "def matriz(a,b):\n",
        "    matrix = []\n",
        "    for i in range(1, len(a)):\n",
        "        row = []\n",
        "        for j in range(1, len(a)):\n",
        "            if i == j:\n",
        "                row.append(a[i])\n",
        "            elif(abs(j - i) == 1):\n",
        "                row.append(b[max(i, j)])\n",
        "            else:\n",
        "                row.append(0)\n",
        "        matrix.append(row)\n",
        "    return matrix\n",
        "\n",
        "def imprimirMatriz(matrix, index):\n",
        "    plt.imshow(matrix, cmap=mapa)\n",
        "    plt.axis('off')\n",
        "    plt.colorbar()\n",
        "    print(\"\\nIteración \" + str(index) + \": \")\n",
        "    plt.show()"
      ]
    },
    {
      "cell_type": "markdown",
      "metadata": {},
      "source": [
        "### Función para algoritmo QR"
      ]
    },
    {
      "cell_type": "code",
      "execution_count": 10,
      "metadata": {
        "id": "n6cw-TEdHDLW"
      },
      "outputs": [],
      "source": [
        "'''\r\n",
        "n: Tamaño de la matriz\r\n",
        "a: Arreglo que contiene los elementos de la diagonal principal\r\n",
        "b: arreglo que contiene los elementos de las subdiagonales\r\n",
        "TOL: Máxima diferencia permitida respecto a cero\r\n",
        "m: Cantidad máxima de iteraciones\r\n",
        "'''\r\n",
        "\r\n",
        "def QR(n, a, b, TOL, m):\r\n",
        "    c = []\r\n",
        "    d = []\r\n",
        "    q = []\r\n",
        "    r = []\r\n",
        "    x = []\r\n",
        "    y = []\r\n",
        "    z = []\r\n",
        "    sigma = []\r\n",
        "\r\n",
        "    #Se inicializan las listas con n elementos con valor de 0\r\n",
        "    for j in range (0, n + 1):\r\n",
        "        c.append(0)\r\n",
        "        d.append(0)\r\n",
        "        q.append(0)\r\n",
        "        r.append(0)\r\n",
        "        x.append(0)\r\n",
        "        y.append(0)\r\n",
        "        z.append(0)\r\n",
        "        sigma.append(0)\r\n",
        "    \r\n",
        "    # Primera iteración\r\n",
        "    k = 1     \r\n",
        "    shift = 0\r\n",
        "    eigenvalue = 0\r\n",
        "    eigenvalues = []\r\n",
        "\r\n",
        "    #Se agregan valores de 0 a las listas para facilitar la lectura del algoritmo\r\n",
        "    a.insert(0,0)\r\n",
        "    b.insert(0,0)\r\n",
        "    b.insert(0,0)\r\n",
        "    imprimirMatriz(matriz(a,b), k)\r\n",
        "    counter = 0\r\n",
        "\r\n",
        "    while k < m:\r\n",
        "        if k % 10 == 0 and counter < 8:\r\n",
        "            imprimirMatriz(matriz(a,b), k)\r\n",
        "            counter += 1\r\n",
        "        # Se verifica si los extremos de la diagonal contienen eigenvalores\r\n",
        "        if abs(b[n]) <= TOL:\r\n",
        "            eigenvalue = a[n] + shift\r\n",
        "            eigenvalues.append(eigenvalue)\r\n",
        "            n = n - 1\r\n",
        "        \r\n",
        "        if abs(b[2]) <= TOL:\r\n",
        "            eigenvalue = a[1] + shift\r\n",
        "            eigenvalues.append(eigenvalue)\r\n",
        "            n = n - 1\r\n",
        "            a[1] = a[2]\r\n",
        "            # Se desplazan los valores en las diagonales  \r\n",
        "            for j in range(2, n + 1):\r\n",
        "                a[j] = a[j + 1]\r\n",
        "                b[j] = b[j + 1]\r\n",
        "        \r\n",
        "        if n == 0 :\r\n",
        "            imprimirMatriz(matriz(a,b), k)\r\n",
        "            return eigenvalues\r\n",
        "        \r\n",
        "        if n == 1 :\r\n",
        "            eigenvalue = a[1] + shift\r\n",
        "            eigenvalues.append(eigenvalue)\r\n",
        "            imprimirMatriz(matriz(a,b), k)\r\n",
        "            counter += 1\r\n",
        "            return eigenvalues\r\n",
        "        \r\n",
        "        b[0] = - (a[n - 1] + a[n])\r\n",
        "        c[0] = a[n] * a[n - 1] - (b[n]) ** 2\r\n",
        "        d[0] = sqrt(((b[0] ** 2) - 4 * c[0]))\r\n",
        "\r\n",
        "        if b[0] > 0:\r\n",
        "            mu1 = -2 * c[0] / (b[0] + d[0])\r\n",
        "            mu2 = - (b[0] + d[0]) / 2\r\n",
        "        else:\r\n",
        "            mu1 = (d[0] - b[0]) / 2\r\n",
        "            mu2 = (2 * c[0]) / (d[0] - b[0])\r\n",
        "\r\n",
        "        if n == 2:\r\n",
        "            eigenvalue = mu1 + shift\r\n",
        "            eigenvalue = mu2 + shift\r\n",
        "\r\n",
        "        if abs(mu1 - a[n]) < abs(mu2 - a[n]):\r\n",
        "            sigma[0] = mu1-a[n]\r\n",
        "        else:\r\n",
        "            sigma[0] = mu2-a[n]\r\n",
        "\r\n",
        "        shift = shift + sigma[0]\r\n",
        "\r\n",
        "        for j in range(1, n + 1):\r\n",
        "            d[j] = a[j] - sigma[0]\r\n",
        "\r\n",
        "        #Calculando R^k\r\n",
        "        x[1] = d[1]\r\n",
        "        y[1] = b[2]\r\n",
        "        c[1] = c[0]\r\n",
        "        sigma[1] = sigma[0]\r\n",
        "        for j in range (2, n + 1):\r\n",
        "            z[j - 1] = sqrt((x[j - 1] ** 2) + (b[j] ** 2))\r\n",
        "            c[j] = x[j - 1] / z[j - 1]\r\n",
        "            sigma[j] =  b[j] / z[j - 1]\r\n",
        "\r\n",
        "            q[j - 1] = c[j] * y[j - 1]  + sigma[j] * d[j]\r\n",
        "            x[j] = - sigma[j] * y[j - 1] + c[j] * d[j]\r\n",
        "            \r\n",
        "            if j != n:\r\n",
        "                r[j - 1] = sigma[j] * b[j + 1]\r\n",
        "                y[j] = c[j] * b[j + 1]\r\n",
        "        \r\n",
        "        #Calculando A^(k + 1)\r\n",
        "        z[n] = x[n]\r\n",
        "        a[1] = sigma[2] * q[1] + c[2] * z[1]\r\n",
        "        b[2] = sigma[2] * z[2]\r\n",
        "\r\n",
        "        for j in range(2, n):\r\n",
        "            a[j] = (sigma[j + 1] * q[j]) + (c[j] * c[j + 1] * z[j])\r\n",
        "            b[j + 1] = sigma[j + 1] * z[j + 1]\r\n",
        "\r\n",
        "        a[n] = c[n] * z[n]\r\n",
        "\r\n",
        "        k = k + 1\r\n",
        "\r\n",
        "    print('Se ha superado el numero máximo de iteraciones')\r\n",
        "    return eigenvalues\r\n"
      ]
    },
    {
      "cell_type": "markdown",
      "metadata": {
        "id": "IbmFcOgnHDLY"
      },
      "source": [
        "## Experimentos numéricos\r\n",
        "\r\n",
        "### Experimento 1\r\n",
        "Utilizando el algoritmo QR con precisión de $10^{-5}$, demuestre que los eigenvalores de la matriz dada son: $\\lambda_{1} = −0.06870782$, $\\lambda_{2} = 2.722246$ y $\\lambda_{3} = 5.346462$.\r\n",
        "\r\n",
        "$$\\begin{equation}\r\n",
        "A =\r\n",
        "\\begin{bmatrix}\r\n",
        "3 & 1 & 0\\\\\r\n",
        "1 & 4 & 2\\\\\r\n",
        "0 & 2 & 1\r\n",
        "\\end{bmatrix}\r\n",
        "\\end{equation}$$\r\n",
        "\r\n"
      ]
    },
    {
      "cell_type": "code",
      "execution_count": 11,
      "metadata": {
        "id": "bUfo50bZHDLY",
        "outputId": "fabf2b60-3f11-45c1-b677-d9154816b396"
      },
      "outputs": [
        {
          "name": "stdout",
          "output_type": "stream",
          "text": [
            "\n",
            "Iteración 1: \n"
          ]
        },
        {
          "data": {
            "image/png": "[encoded data removed]",
            "text/plain": [
              "<Figure size 432x288 with 2 Axes>"
            ]
          },
          "metadata": {
            "needs_background": "light"
          },
          "output_type": "display_data"
        },
        {
          "name": "stdout",
          "output_type": "stream",
          "text": [
            "\n",
            "Iteración 10: \n"
          ]
        },
        {
          "data": {
            "image/png": "[encoded data removed]",
            "text/plain": [
              "<Figure size 432x288 with 2 Axes>"
            ]
          },
          "metadata": {
            "needs_background": "light"
          },
          "output_type": "display_data"
        },
        {
          "name": "stdout",
          "output_type": "stream",
          "text": [
            "\n",
            "Iteración 20: \n"
          ]
        },
        {
          "data": {
            "image/png": "[encoded data removed]",
            "text/plain": [
              "<Figure size 432x288 with 2 Axes>"
            ]
          },
          "metadata": {
            "needs_background": "light"
          },
          "output_type": "display_data"
        },
        {
          "name": "stdout",
          "output_type": "stream",
          "text": [
            "\n",
            "Iteración 27: \n"
          ]
        },
        {
          "data": {
            "image/png": "[encoded data removed]",
            "text/plain": [
              "<Figure size 432x288 with 2 Axes>"
            ]
          },
          "metadata": {
            "needs_background": "light"
          },
          "output_type": "display_data"
        },
        {
          "name": "stdout",
          "output_type": "stream",
          "text": [
            "\n",
            "Eigenvalores de la matriz: -0.06870782332199432, 2.7222456337737406, 5.346462189548253\n"
          ]
        }
      ],
      "source": [
        "eigenvals = QR(3, [3, 4, 1], [1, 2], 10**-5, 1000)\n",
        "print('\\nEigenvalores de la matriz: ' + ', '.join(map(str, eigenvals)))"
      ]
    },
    {
      "cell_type": "markdown",
      "metadata": {
        "id": "ogIul09mHDLa"
      },
      "source": [
        "### Experimento 2\r\n",
        "\r\n",
        "Los eigenvalores correspondientes a la matriz B son los siguientes: $\\lambda_{1} = 0.1922421$, $\\lambda_{2} = 0.5238224$, $\\lambda_{3} = 1.189091$ y $\\lambda_{4} = 0.9948440$. Compruebe esta afirmación utilizando el algoritmo QR con precisión de $10^{-5}$.\r\n",
        "\r\n",
        "$$\\begin{equation}\r\n",
        "B =\r\n",
        "\\begin{bmatrix}\r\n",
        "0.5 & 0.25 & 0 & 0\\\\\r\n",
        "0.25 & 0.8 & 0.4 & 0\\\\\r\n",
        "0 & 0.4 & 0.6 & 0.1\\\\\r\n",
        "0 & 0 & 0.1 & 1\r\n",
        "\\end{bmatrix}\r\n",
        "\\end{equation}$$"
      ]
    },
    {
      "cell_type": "code",
      "execution_count": 12,
      "metadata": {
        "id": "oDnte3r4HDLa",
        "outputId": "53108412-c720-449e-a296-532428cb4bab"
      },
      "outputs": [
        {
          "name": "stdout",
          "output_type": "stream",
          "text": [
            "\n",
            "Iteración 1: \n"
          ]
        },
        {
          "data": {
            "image/png": "[encoded data removed]",
            "text/plain": [
              "<Figure size 432x288 with 2 Axes>"
            ]
          },
          "metadata": {
            "needs_background": "light"
          },
          "output_type": "display_data"
        },
        {
          "name": "stdout",
          "output_type": "stream",
          "text": [
            "\n",
            "Iteración 10: \n"
          ]
        },
        {
          "data": {
            "image/png": "[encoded data removed]",
            "text/plain": [
              "<Figure size 432x288 with 2 Axes>"
            ]
          },
          "metadata": {
            "needs_background": "light"
          },
          "output_type": "display_data"
        },
        {
          "name": "stdout",
          "output_type": "stream",
          "text": [
            "\n",
            "Iteración 20: \n"
          ]
        },
        {
          "data": {
            "image/png": "[encoded data removed]",
            "text/plain": [
              "<Figure size 432x288 with 2 Axes>"
            ]
          },
          "metadata": {
            "needs_background": "light"
          },
          "output_type": "display_data"
        },
        {
          "name": "stdout",
          "output_type": "stream",
          "text": [
            "\n",
            "Iteración 30: \n"
          ]
        },
        {
          "data": {
            "image/png": "[encoded data removed]",
            "text/plain": [
              "<Figure size 432x288 with 2 Axes>"
            ]
          },
          "metadata": {
            "needs_background": "light"
          },
          "output_type": "display_data"
        },
        {
          "name": "stdout",
          "output_type": "stream",
          "text": [
            "\n",
            "Iteración 40: \n"
          ]
        },
        {
          "data": {
            "image/png": "[encoded data removed]",
            "text/plain": [
              "<Figure size 432x288 with 2 Axes>"
            ]
          },
          "metadata": {
            "needs_background": "light"
          },
          "output_type": "display_data"
        },
        {
          "name": "stdout",
          "output_type": "stream",
          "text": [
            "\n",
            "Iteración 48: \n"
          ]
        },
        {
          "data": {
            "image/png": "[encoded data removed]",
            "text/plain": [
              "<Figure size 432x288 with 2 Axes>"
            ]
          },
          "metadata": {
            "needs_background": "light"
          },
          "output_type": "display_data"
        },
        {
          "name": "stdout",
          "output_type": "stream",
          "text": [
            "\n",
            "Eigenvalores de la matriz: 0.19224214160156028, 0.5238224091238559, 0.9948440427556363, 1.1890914065189455\n"
          ]
        }
      ],
      "source": [
        "eigenvals = QR(4, [0.5, 0.8, 0.6, 1], [0.25, 0.4, 0.1], 10**-5, 1000)\n",
        "print('\\nEigenvalores de la matriz: ' + ', '.join(map(str, eigenvals)))"
      ]
    },
    {
      "cell_type": "markdown",
      "metadata": {
        "id": "cu1cKtagHDLb"
      },
      "source": [
        "### Experimento 3\r\n",
        "\r\n",
        "Demuestre que los eigenvalores de la matriz dada son los siguientes: $\\lambda_{1} = 0.890$, $\\lambda_{2} = 2.071$, $\\lambda_{3} = 3.728$, $\\lambda_{4} = 4.027$ y $\\lambda_{5} = 5.784$. Utilice el algoritmo QR con precisión de $10^{-6}$.\r\n",
        "\r\n",
        "$$\\begin{equation}\r\n",
        "C =\r\n",
        "\\begin{bmatrix}\r\n",
        "5 & -1 & 0 & 0 & 0\\\\\r\n",
        "-1 & 4.5 & 0.2 & 0 & 0\\\\\r\n",
        "0 & 0.2 & 1 & -0.4 & 0\\\\\r\n",
        "0 & 0 & -0.4 & 3& 1\\\\\r\n",
        "0 & 0 & 0 & 1 & 3\r\n",
        "\\end{bmatrix}\r\n",
        "\\end{equation}$$"
      ]
    },
    {
      "cell_type": "code",
      "execution_count": 13,
      "metadata": {
        "id": "R4mSSy4WHDLb",
        "outputId": "76346e93-e5d3-4894-cbe1-5f8ccfc4a936"
      },
      "outputs": [
        {
          "name": "stdout",
          "output_type": "stream",
          "text": [
            "\n",
            "Iteración 1: \n"
          ]
        },
        {
          "data": {
            "image/png": "[encoded data removed]",
            "text/plain": [
              "<Figure size 432x288 with 2 Axes>"
            ]
          },
          "metadata": {
            "needs_background": "light"
          },
          "output_type": "display_data"
        },
        {
          "name": "stdout",
          "output_type": "stream",
          "text": [
            "\n",
            "Iteración 10: \n"
          ]
        },
        {
          "data": {
            "image/png": "[encoded data removed]",
            "text/plain": [
              "<Figure size 432x288 with 2 Axes>"
            ]
          },
          "metadata": {
            "needs_background": "light"
          },
          "output_type": "display_data"
        },
        {
          "name": "stdout",
          "output_type": "stream",
          "text": [
            "\n",
            "Iteración 20: \n"
          ]
        },
        {
          "data": {
            "image/png": "[encoded data removed]",
            "text/plain": [
              "<Figure size 432x288 with 2 Axes>"
            ]
          },
          "metadata": {
            "needs_background": "light"
          },
          "output_type": "display_data"
        },
        {
          "name": "stdout",
          "output_type": "stream",
          "text": [
            "\n",
            "Iteración 30: \n"
          ]
        },
        {
          "data": {
            "image/png": "[encoded data removed]",
            "text/plain": [
              "<Figure size 432x288 with 2 Axes>"
            ]
          },
          "metadata": {
            "needs_background": "light"
          },
          "output_type": "display_data"
        },
        {
          "name": "stdout",
          "output_type": "stream",
          "text": [
            "\n",
            "Iteración 40: \n"
          ]
        },
        {
          "data": {
            "image/png": "[encoded data removed]",
            "text/plain": [
              "<Figure size 432x288 with 2 Axes>"
            ]
          },
          "metadata": {
            "needs_background": "light"
          },
          "output_type": "display_data"
        },
        {
          "name": "stdout",
          "output_type": "stream",
          "text": [
            "\n",
            "Iteración 50: \n"
          ]
        },
        {
          "data": {
            "image/png": "[encoded data removed]",
            "text/plain": [
              "<Figure size 432x288 with 2 Axes>"
            ]
          },
          "metadata": {
            "needs_background": "light"
          },
          "output_type": "display_data"
        },
        {
          "name": "stdout",
          "output_type": "stream",
          "text": [
            "\n",
            "Iteración 60: \n"
          ]
        },
        {
          "data": {
            "image/png": "[encoded data removed]",
            "text/plain": [
              "<Figure size 432x288 with 2 Axes>"
            ]
          },
          "metadata": {
            "needs_background": "light"
          },
          "output_type": "display_data"
        },
        {
          "name": "stdout",
          "output_type": "stream",
          "text": [
            "\n",
            "Iteración 70: \n"
          ]
        },
        {
          "data": {
            "image/png": "[encoded data removed]",
            "text/plain": [
              "<Figure size 432x288 with 2 Axes>"
            ]
          },
          "metadata": {
            "needs_background": "light"
          },
          "output_type": "display_data"
        },
        {
          "name": "stdout",
          "output_type": "stream",
          "text": [
            "\n",
            "Iteración 80: \n"
          ]
        },
        {
          "data": {
            "image/png": "[encoded data removed]",
            "text/plain": [
              "<Figure size 432x288 with 2 Axes>"
            ]
          },
          "metadata": {
            "needs_background": "light"
          },
          "output_type": "display_data"
        },
        {
          "name": "stdout",
          "output_type": "stream",
          "text": [
            "\n",
            "Iteración 625: \n"
          ]
        },
        {
          "data": {
            "image/png": "[encoded data removed]",
            "text/plain": [
              "<Figure size 432x288 with 2 Axes>"
            ]
          },
          "metadata": {
            "needs_background": "light"
          },
          "output_type": "display_data"
        },
        {
          "name": "stdout",
          "output_type": "stream",
          "text": [
            "\n",
            "Eigenvalores de la matriz: 5.783995566511156, 0.8903002467172767, 2.070712804092203, 3.7275564244314605, 4.027434958247889\n"
          ]
        }
      ],
      "source": [
        "eigenvals = QR(5, [5, 4.5, 1, 3, 3], [-1, 0.2, -0.4, 1], 10**-6, 1000)\n",
        "print('\\nEigenvalores de la matriz: ' + ', '.join(map(str, eigenvals)))"
      ]
    },
    {
      "cell_type": "markdown",
      "metadata": {
        "id": "nPpwWoFWHDLc"
      },
      "source": [
        "## Referencias relevantes\n",
        "\n",
        "- Budai, A. (2018, Enero 2). QR algorithm: finding eigenvalues. Obtenido de Adam Budai's Blog: <https://adamtiger.github.io/ai/math/2018/01/02/qr.html>\n",
        "\n",
        "- Burden, R. L., Faires, J. D., & Burden, A. M. (2010). The QR Algorithm. En Numerical Analysis (Novena ed., págs. 601-611). Cengage Learning.\n",
        "\n",
        "- Burden, R. L., Faires, J. D., & Burden, A. M. (2016). El algoritmo QR. En Análisis numérico (Décima ed., págs. 452-462). Cengage Learning.\n",
        "\n",
        "- Jarlebring, E. (2014). Lecture notes in numerical linear algebra. Estocolmo, Suecia: Obtenido de: <https://www.math.kth.se/na/SF2524/matber15/qrmethod.pdf>\n",
        "\n",
        "- Kong, Q., Siauw, T., & Bayen, A. (2020). Python programming and numerical methods. Academic Press.\n",
        "\n",
        "- Parlett, B. N. (2000). The QR algorithm. Computing in Science & Engineering, 2(1), 38-42."
      ]
    }
  ],
  "metadata": {
    "colab": {
      "name": "AlgoritmoQR.ipynb",
      "provenance": []
    },
    "interpreter": {
      "hash": "974151ec8f829cb85577dbf8bdad41af9b6734db21221b8b361842833ba8e7da"
    },
    "kernelspec": {
      "display_name": "Python 3.9.0 64-bit",
      "name": "python3"
    },
    "language_info": {
      "name": "python",
      "version": ""
    },
    "orig_nbformat": 4
  },
  "nbformat": 4,
  "nbformat_minor": 0
}